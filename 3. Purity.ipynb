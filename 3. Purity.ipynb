{
 "cells": [
  {
   "cell_type": "markdown",
   "metadata": {},
   "source": [
    "# 3. Purity"
   ]
  },
  {
   "cell_type": "code",
   "execution_count": 3,
   "metadata": {},
   "outputs": [],
   "source": [
    "import numpy as np\n",
    "import pandas as pd\n",
    "import matplotlib.pyplot as plt\n"
   ]
  },
  {
   "cell_type": "markdown",
   "metadata": {},
   "source": [
    "$$\\text{Purity} = \\frac{1}{N}\\sum_{k=1}^{K} \\max_{j=1,...,K} | c_k \\cap t_j |$$"
   ]
  },
  {
   "cell_type": "markdown",
   "metadata": {},
   "source": [
    "- $c_k$ or c[k] : set of data points that belong to cluster $k$ \n",
    "\n",
    "- $t_j$ or y[j] : set of data points that belong to target class $j$ "
   ]
  },
  {
   "cell_type": "code",
   "execution_count": 27,
   "metadata": {},
   "outputs": [],
   "source": [
    "# hard labels\n",
    "def purity2(Y, R):\n",
    "    # maximum purity is 1, higher is better\n",
    "    \n",
    "    #ตำแหน่งของค่าที่สูงที่สุดสูงสุด\n",
    "    C = np.argmax(R, axis=1) # cluster assignments\n",
    "\n",
    "    N = len(Y) # number of data pts\n",
    "    K = len(set(Y)) # number of labels\n",
    "\n",
    "    total = 0.0\n",
    "    for k in range(K):\n",
    "        max_intersection = 0\n",
    "        for j in range(K):\n",
    "            intersection = ((C == k) & (Y == j)).sum()\n",
    "            if intersection > max_intersection:\n",
    "                max_intersection = intersection\n",
    "        total += max_intersection\n",
    "    return total / N\n",
    "\n",
    "\n",
    "def purity(Y, R):\n",
    "    # maximum purity is 1, higher is better\n",
    "    N, K = R.shape\n",
    "    p = 0 #แทนค่า probability initialize\n",
    "    for k in range(K):\n",
    "        \n",
    "        best_target = -1 # we don't strictly need to store this\n",
    "        max_intersection = 0\n",
    "        \n",
    "        \n",
    "        for j in range(K):\n",
    "            intersection = R[Y==j, k].sum()\n",
    "            #เก็บค่ามาก\n",
    "            if intersection > max_intersection:\n",
    "                max_intersection = intersection\n",
    "                best_target = j\n",
    "        p += max_intersection\n",
    "    return p / N"
   ]
  },
  {
   "cell_type": "code",
   "execution_count": 72,
   "metadata": {},
   "outputs": [],
   "source": [
    "#Wrong ex\n",
    "from sklearn.preprocessing import normalize\n",
    "\n",
    "R = np.array([[ 9, 1, 5],[1, 5, 6],[1, 10, 6],[1, 5, 16]])\n",
    "R = normalize( R ) # R must be in [0,1] \n",
    "Y = np.array([0,1,1,2])"
   ]
  },
  {
   "cell_type": "code",
   "execution_count": 73,
   "metadata": {},
   "outputs": [
    {
     "data": {
      "text/plain": [
       "0.75"
      ]
     },
     "execution_count": 73,
     "metadata": {},
     "output_type": "execute_result"
    }
   ],
   "source": [
    "# Hard\n",
    "purity2(Y, R)"
   ]
  },
  {
   "cell_type": "code",
   "execution_count": 74,
   "metadata": {},
   "outputs": [
    {
     "data": {
      "text/plain": [
       "0.9085091223725025"
      ]
     },
     "execution_count": 74,
     "metadata": {},
     "output_type": "execute_result"
    }
   ],
   "source": [
    "#soft k-means\n",
    "purity(Y, R)"
   ]
  },
  {
   "cell_type": "code",
   "execution_count": 75,
   "metadata": {},
   "outputs": [],
   "source": [
    "#Correct ex\n",
    "R = np.array([[ 9, 1, 5],[1, 5, 6],[1, 10, 6],[1, 5, 16]])\n",
    "R = normalize( R ) # R must be in [0,1] \n",
    "Y = np.array([0,2,1,2])\n"
   ]
  },
  {
   "cell_type": "code",
   "execution_count": 76,
   "metadata": {},
   "outputs": [
    {
     "data": {
      "text/plain": [
       "1.0"
      ]
     },
     "execution_count": 76,
     "metadata": {},
     "output_type": "execute_result"
    }
   ],
   "source": [
    "# Hard\n",
    "purity2(Y, R)"
   ]
  },
  {
   "cell_type": "code",
   "execution_count": 77,
   "metadata": {},
   "outputs": [
    {
     "data": {
      "text/plain": [
       "0.8793990097278903"
      ]
     },
     "execution_count": 77,
     "metadata": {},
     "output_type": "execute_result"
    }
   ],
   "source": [
    "#soft k-means\n",
    "purity(Y, R)"
   ]
  },
  {
   "cell_type": "code",
   "execution_count": null,
   "metadata": {},
   "outputs": [],
   "source": [
    "# อย่าลืมนำเอาfunction ไปรวมไว้ในไฟล์ k_means_functions.py"
   ]
  }
 ],
 "metadata": {
  "kernelspec": {
   "display_name": "Python 3",
   "language": "python",
   "name": "python3"
  },
  "language_info": {
   "codemirror_mode": {
    "name": "ipython",
    "version": 3
   },
   "file_extension": ".py",
   "mimetype": "text/x-python",
   "name": "python",
   "nbconvert_exporter": "python",
   "pygments_lexer": "ipython3",
   "version": "3.7.4"
  }
 },
 "nbformat": 4,
 "nbformat_minor": 2
}
